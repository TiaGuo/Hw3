{
  "nbformat": 4,
  "nbformat_minor": 0,
  "metadata": {
    "colab": {
      "name": "Yuting Guo-第一阶段-作业3.ipynb",
      "version": "0.3.2",
      "views": {},
      "default_view": {},
      "provenance": [],
      "collapsed_sections": []
    }
  },
  "cells": [
    {
      "metadata": {
        "id": "pr27Jj6bNuMr",
        "colab_type": "code",
        "colab": {
          "autoexec": {
            "startup": false,
            "wait_interval": 0
          },
          "base_uri": "https://localhost:8080/",
          "height": 51
        },
        "outputId": "1c58fe52-a6f6-4e3c-e083-06eac89fa0d8",
        "executionInfo": {
          "status": "ok",
          "timestamp": 1526678991296,
          "user_tz": 420,
          "elapsed": 456,
          "user": {
            "displayName": "Yuting Guo",
            "photoUrl": "//lh4.googleusercontent.com/-vYPIkXxwyQY/AAAAAAAAAAI/AAAAAAAAACA/s-E7WjO7yqg/s50-c-k-no/photo.jpg",
            "userId": "102350069641976897082"
          }
        }
      },
      "cell_type": "code",
      "source": [
        "#HW1.  How do you handle duplicate values in a dataset in Python?\n",
        "\n",
        "\n",
        "import numpy as np\n",
        "import pandas as pd\n",
        "import scipy\n",
        "\n",
        "%matplotlib inline\n",
        "import matplotlib.pyplot as plt\n",
        "\n",
        "import numpy as np\n",
        "a = np.array([1,2,3,3,4,5])\n",
        "print a\n",
        "\n",
        "a_dedupe = np.unique(a)\n",
        "print a_dedupe\n",
        "\n",
        "#we can using df.T.drop_duplicates(Col1) to drop columns."
      ],
      "execution_count": 19,
      "outputs": [
        {
          "output_type": "stream",
          "text": [
            "[1 2 3 3 4 5]\n",
            "[1 2 3 4 5]\n"
          ],
          "name": "stdout"
        }
      ]
    },
    {
      "metadata": {
        "id": "rbJUPnJBJ2PH",
        "colab_type": "code",
        "colab": {
          "autoexec": {
            "startup": false,
            "wait_interval": 0
          },
          "base_uri": "https://localhost:8080/",
          "height": 136
        },
        "outputId": "3d34b955-d24e-452b-ef33-e3460c42baae",
        "executionInfo": {
          "status": "ok",
          "timestamp": 1526679555481,
          "user_tz": 420,
          "elapsed": 264,
          "user": {
            "displayName": "Yuting Guo",
            "photoUrl": "//lh4.googleusercontent.com/-vYPIkXxwyQY/AAAAAAAAAAI/AAAAAAAAACA/s-E7WjO7yqg/s50-c-k-no/photo.jpg",
            "userId": "102350069641976897082"
          }
        }
      },
      "cell_type": "code",
      "source": [
        "#HW2. You are given two tables - friend_request and request_accepted. Friend_request contains requester_id, time and sent_to_id and request_accepted table contains time, acceptor_id and requestor_id. \n",
        "#How will you determine the overall acceptance rate of requests?\n",
        "\n",
        "\n",
        "#Python\n",
        "import pandas as pd\n",
        "\n",
        "friend_request = pd.DataFrame(\n",
        "    {\"requester_id\":[1001,1002,1003],\n",
        "     \"time\":[\"2017-07-01\",\"2017-07-02\",\"2017-07-03\"],\n",
        "     \"receiver_id\":[3001,3002,3003]}\n",
        ")\n",
        "\n",
        "request_accepted = pd.DataFrame(\n",
        "    {\"requester_id\":[1001,1003],\n",
        "     \"time\":[\"2017-07-01\",\"2017-07-04\"],\n",
        "     \"acceptor_id\":[3001,3003]}\n",
        ")\n",
        "\n",
        "print(friend_request)\n",
        "print(request_accepted)\n",
        "\n",
        "\n",
        "#Sql\n",
        "#select \n",
        "#round(\n",
        "    #ifnull(\n",
        "    #(select count(*) from (select distinct requester_id, accepter_id from request_accepted) as A)\n",
        "    #/\n",
        "    #(select count(*) from (select distinct sender_id, send_to_id from friend_request) as B),\n",
        "    #0), 2) as accept_rate;\n",
        "\n",
        "        "
      ],
      "execution_count": 21,
      "outputs": [
        {
          "output_type": "stream",
          "text": [
            "   receiver_id  requester_id        time\n",
            "0         3001          1001  2017-07-01\n",
            "1         3002          1002  2017-07-02\n",
            "2         3003          1003  2017-07-03\n",
            "   acceptor_id  requester_id        time\n",
            "0         3001          1001  2017-07-01\n",
            "1         3003          1003  2017-07-04\n"
          ],
          "name": "stdout"
        }
      ]
    },
    {
      "metadata": {
        "id": "DwagGjNEwks7",
        "colab_type": "code",
        "colab": {
          "autoexec": {
            "startup": false,
            "wait_interval": 0
          }
        }
      },
      "cell_type": "code",
      "source": [
        "#HW3.\n",
        "cc = '4175004175004172' \n",
        "#cc ='4917491749174917'\n",
        "#cc = '346416800707698'\n",
        "#cc = '376416800707698'\n",
        "#cc = '37641680070769832112'\n",
        "#cc = '36641680070769'\n",
        "#cc = 54545641680070769’\n",
        "\n",
        "if ((cc[0:2] == '36') and (len(cc) == 14)):\n",
        "  print(\"this card is Diners Club\")\n",
        "if (cc[0:2] == \"34\" or \"37\") and (len(cc) == 15):\n",
        "  print (\"this card is AMEX\")\n",
        "if (cc[0:1] == \"4\") and (len(cc) == 16):\n",
        "    if (cc[0:6] == \"417500\" ):\n",
        "    if (cc[0:4] == \"4026\") or (cc[0:4] == \"4405\" ) or (cc[0:4] =='4508') \n",
        "        or (cc[0:4] =='4844') or (cc[0:4] =='4913') or (cc[0:4] ==\"4917\"):\n",
        "        print (\"this card is VISASELECTRON\")\n",
        "\n",
        "if ((cc[0] == '4') and (len(cc) == 16)):\n",
        "  print(\"this card is VISA\")\n",
        "    else:\n",
        "  print(\"try again\")      \n",
        "      \n",
        "    "
      ],
      "execution_count": 0,
      "outputs": []
    },
    {
      "metadata": {
        "id": "ZYkHmveRwr3V",
        "colab_type": "code",
        "colab": {
          "autoexec": {
            "startup": false,
            "wait_interval": 0
          }
        }
      },
      "cell_type": "code",
      "source": [
        "#HW4.\n",
        "\n",
        "import pandas as pd\n",
        "\n",
        "from google.colab import files\n",
        "\n",
        "uploaded = files.upload()\n",
        "\n",
        "for fn in uploaded.keys():\n",
        "  print('User uploaded file \"{name}\" with length {length} bytes'.format(\n",
        "      name=fn, length=len(uploaded[fn])))\n",
        "\n",
        "  "
      ],
      "execution_count": 0,
      "outputs": []
    },
    {
      "metadata": {
        "id": "5ybR7QrCPg3h",
        "colab_type": "code",
        "colab": {
          "autoexec": {
            "startup": false,
            "wait_interval": 0
          }
        }
      },
      "cell_type": "code",
      "source": [
        "#function 1: for any given experiment_id, return a list group by date\n",
        "def GetSeries(my_data, my_id):\n",
        "    table = my_data[[\"date\", \"spend_usd\"]][my_data.experiment_id == my_id]\n",
        "    series = table.groupby('date')['spend_usd'].sum()\n",
        "    return(series)\n",
        "\n",
        "# function 2: for any two series, plot the time series\n",
        "def PlotSeries(experiment_series, control_series):\n",
        "    fig, ax = plt.subplots()\n",
        "    ax.plot(experiment_series, color=\"red\", label=\"experiment\")\n",
        "    ax.plot(control_series, color=\"blue\", label=\"control\")\n",
        "    ax.set_title(\"Red vs. Blue\")\n",
        "    ax.set_ylabel(\"Total spend\")\n",
        "    ax.grid(True, which=\"both\")\n",
        "    ax.legend()\n",
        "    #plt.gcf().autofmt_xdate()\n",
        "    \n",
        "def PrintCumulativeTimeSeries(my_data, experiment_ids, country):\n",
        "    # make sure our x-axis is consistent\n",
        "    index_series = np.unique(my_data.date) # unique date\n",
        "    index_series = np.sort(index_series) # sort by date\n",
        "    \n",
        "    # data grouping\n",
        "    my_data = my_data.sort_values(\"date\", ascending=True, inplace=False)\n",
        "    treatment_series = GetCumulativeSeries(my_data, experiment_ids[0], country)[0]\n",
        "    control_series = GetCumulativeSeries(my_data, experiment_ids[1], country)[0]\n",
        "    treatment_revenue = GetCumulativeSeries(my_data, experiment_ids[0], country)[1]\n",
        "    control_revenue = GetCumulativeSeries(my_data, experiment_ids[1], country)[1]\n",
        "    \n",
        "    print(\"Cumulative revenue impact: \" + str(treatment_revenue/control_revenue*100-100) + \"%\")\n",
        "    PlotSeries(treatment_series, control_series)    "
      ],
      "execution_count": 0,
      "outputs": []
    }
  ]
}